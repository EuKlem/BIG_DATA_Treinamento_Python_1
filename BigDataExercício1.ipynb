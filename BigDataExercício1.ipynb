{
  "nbformat": 4,
  "nbformat_minor": 0,
  "metadata": {
    "colab": {
      "provenance": [],
      "authorship_tag": "ABX9TyNwASV5dbmDygatmp98rtbW",
      "include_colab_link": true
    },
    "kernelspec": {
      "name": "python3",
      "display_name": "Python 3"
    },
    "language_info": {
      "name": "python"
    }
  },
  "cells": [
    {
      "cell_type": "markdown",
      "metadata": {
        "id": "view-in-github",
        "colab_type": "text"
      },
      "source": [
        "<a href=\"https://colab.research.google.com/github/EuKlem/BIG_DATA_Treinamento_Python_1/blob/main/BigDataExerc%C3%ADcio1.ipynb\" target=\"_parent\"><img src=\"https://colab.research.google.com/assets/colab-badge.svg\" alt=\"Open In Colab\"/></a>"
      ]
    },
    {
      "cell_type": "code",
      "execution_count": null,
      "metadata": {
        "id": "aGrvH_4-Ggij"
      },
      "outputs": [],
      "source": [
        "#Exercício 1 - Unificar itens em um dicionário.\n",
        "  #open() Abre um arquivo e o retorna como um objeto de arquivo.\n",
        "  #zip() Serve para juntar dois arquivos.\n",
        "  #dict() serve para criar um dicionário.\n",
        "  #list() Cria uma nova lista.\n",
        "\n",
        "\n",
        "arquivo1 = open(\"keys.txt\")\n",
        "texto1 = arquivo1.read().split()\n",
        "\n",
        "arquivo2 = open(\"values.txt\")\n",
        "texto2 = arquivo2.read().split()\n",
        "\n",
        "combinar = dict(zip(texto1, texto2))\n",
        "\n",
        "print(combinar)"
      ]
    }
  ]
}